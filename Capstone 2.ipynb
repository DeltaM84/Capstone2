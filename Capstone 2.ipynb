{
 "cells": [
  {
   "cell_type": "code",
   "execution_count": null,
   "id": "7286eb74",
   "metadata": {},
   "outputs": [],
   "source": [
    "pip install scipy --upgrade"
   ]
  },
  {
   "cell_type": "code",
   "execution_count": 12,
   "id": "004253a4",
   "metadata": {},
   "outputs": [],
   "source": [
    "from scipy.io import arff\n",
    "import pandas as pd\n",
    "import matplotlib.pyplot as plt\n",
    "import seaborn as sns\n",
    "import urllib.request"
   ]
  },
  {
   "cell_type": "code",
   "execution_count": 13,
   "id": "c04a46e8",
   "metadata": {},
   "outputs": [],
   "source": [
    "file_path = \"C:/dataset.arff\""
   ]
  },
  {
   "cell_type": "code",
   "execution_count": 15,
   "id": "552f2cb6",
   "metadata": {},
   "outputs": [
    {
     "name": "stdout",
     "output_type": "stream",
     "text": [
      "Requirement already satisfied: liac-arff in c:\\users\\makar\\anaconda3\\lib\\site-packages (2.5.0)\n"
     ]
    }
   ],
   "source": [
    "!pip install liac-arff\n",
    "import arff\n",
    "with open(file_path, 'r') as f:\n",
    "    dataset = arff.load(f)"
   ]
  },
  {
   "cell_type": "code",
   "execution_count": 17,
   "id": "6e77d938",
   "metadata": {},
   "outputs": [
    {
     "data": {
      "text/html": [
       "<div>\n",
       "<style scoped>\n",
       "    .dataframe tbody tr th:only-of-type {\n",
       "        vertical-align: middle;\n",
       "    }\n",
       "\n",
       "    .dataframe tbody tr th {\n",
       "        vertical-align: top;\n",
       "    }\n",
       "\n",
       "    .dataframe thead th {\n",
       "        text-align: right;\n",
       "    }\n",
       "</style>\n",
       "<table border=\"1\" class=\"dataframe\">\n",
       "  <thead>\n",
       "    <tr style=\"text-align: right;\">\n",
       "      <th></th>\n",
       "      <th>UDI</th>\n",
       "      <th>Product</th>\n",
       "      <th>Type</th>\n",
       "      <th>Air</th>\n",
       "      <th>Process</th>\n",
       "      <th>Rotational</th>\n",
       "      <th>Torque</th>\n",
       "      <th>Tool</th>\n",
       "      <th>Machine</th>\n",
       "      <th>TWF</th>\n",
       "      <th>HDF</th>\n",
       "      <th>PWF</th>\n",
       "      <th>OSF</th>\n",
       "      <th>RNF</th>\n",
       "    </tr>\n",
       "  </thead>\n",
       "  <tbody>\n",
       "    <tr>\n",
       "      <th>0</th>\n",
       "      <td>1</td>\n",
       "      <td>M14860</td>\n",
       "      <td>M</td>\n",
       "      <td>298.1</td>\n",
       "      <td>308.6</td>\n",
       "      <td>1551</td>\n",
       "      <td>42.8</td>\n",
       "      <td>0</td>\n",
       "      <td>0</td>\n",
       "      <td>0</td>\n",
       "      <td>0</td>\n",
       "      <td>0</td>\n",
       "      <td>0</td>\n",
       "      <td>0</td>\n",
       "    </tr>\n",
       "    <tr>\n",
       "      <th>1</th>\n",
       "      <td>2</td>\n",
       "      <td>L47181</td>\n",
       "      <td>L</td>\n",
       "      <td>298.2</td>\n",
       "      <td>308.7</td>\n",
       "      <td>1408</td>\n",
       "      <td>46.3</td>\n",
       "      <td>3</td>\n",
       "      <td>0</td>\n",
       "      <td>0</td>\n",
       "      <td>0</td>\n",
       "      <td>0</td>\n",
       "      <td>0</td>\n",
       "      <td>0</td>\n",
       "    </tr>\n",
       "    <tr>\n",
       "      <th>2</th>\n",
       "      <td>3</td>\n",
       "      <td>L47182</td>\n",
       "      <td>L</td>\n",
       "      <td>298.1</td>\n",
       "      <td>308.5</td>\n",
       "      <td>1498</td>\n",
       "      <td>49.4</td>\n",
       "      <td>5</td>\n",
       "      <td>0</td>\n",
       "      <td>0</td>\n",
       "      <td>0</td>\n",
       "      <td>0</td>\n",
       "      <td>0</td>\n",
       "      <td>0</td>\n",
       "    </tr>\n",
       "    <tr>\n",
       "      <th>3</th>\n",
       "      <td>4</td>\n",
       "      <td>L47183</td>\n",
       "      <td>L</td>\n",
       "      <td>298.2</td>\n",
       "      <td>308.6</td>\n",
       "      <td>1433</td>\n",
       "      <td>39.5</td>\n",
       "      <td>7</td>\n",
       "      <td>0</td>\n",
       "      <td>0</td>\n",
       "      <td>0</td>\n",
       "      <td>0</td>\n",
       "      <td>0</td>\n",
       "      <td>0</td>\n",
       "    </tr>\n",
       "    <tr>\n",
       "      <th>4</th>\n",
       "      <td>5</td>\n",
       "      <td>L47184</td>\n",
       "      <td>L</td>\n",
       "      <td>298.2</td>\n",
       "      <td>308.7</td>\n",
       "      <td>1408</td>\n",
       "      <td>40.0</td>\n",
       "      <td>9</td>\n",
       "      <td>0</td>\n",
       "      <td>0</td>\n",
       "      <td>0</td>\n",
       "      <td>0</td>\n",
       "      <td>0</td>\n",
       "      <td>0</td>\n",
       "    </tr>\n",
       "  </tbody>\n",
       "</table>\n",
       "</div>"
      ],
      "text/plain": [
       "  UDI Product Type    Air Process Rotational Torque Tool Machine TWF HDF PWF  \\\n",
       "0   1  M14860    M  298.1   308.6       1551   42.8    0       0   0   0   0   \n",
       "1   2  L47181    L  298.2   308.7       1408   46.3    3       0   0   0   0   \n",
       "2   3  L47182    L  298.1   308.5       1498   49.4    5       0   0   0   0   \n",
       "3   4  L47183    L  298.2   308.6       1433   39.5    7       0   0   0   0   \n",
       "4   5  L47184    L  298.2   308.7       1408   40.0    9       0   0   0   0   \n",
       "\n",
       "  OSF RNF  \n",
       "0   0   0  \n",
       "1   0   0  \n",
       "2   0   0  \n",
       "3   0   0  \n",
       "4   0   0  "
      ]
     },
     "execution_count": 17,
     "metadata": {},
     "output_type": "execute_result"
    }
   ],
   "source": [
    "import pandas as pd\n",
    "\n",
    "def custom_arff_parser(file_path):\n",
    "    with open(file_path, 'r') as file:\n",
    "        lines = file.readlines()\n",
    "    \n",
    "    data_section = False\n",
    "    attributes = []\n",
    "    data = []\n",
    "    \n",
    "    for line in lines:\n",
    "        line = line.strip()\n",
    "        if line.startswith('@ATTRIBUTE'):\n",
    "            parts = line.split(' ', 2)\n",
    "            attr_name = parts[1].replace('\"', '').replace(' ', '_')\n",
    "            attr_type = parts[2]\n",
    "            attributes.append((attr_name, attr_type))\n",
    "        elif line.lower() == '@data':\n",
    "            data_section = True\n",
    "        elif data_section:\n",
    "            if not line or line.startswith('%'):\n",
    "                continue\n",
    "            data.append(line.split(','))\n",
    "\n",
    "    # Create a DataFrame\n",
    "    attr_names = [attr[0] for attr in attributes]\n",
    "    df = pd.DataFrame(data, columns=attr_names)\n",
    "    \n",
    "    return df\n",
    "\n",
    "# Use the custom ARFF parser\n",
    "file_path = r'C:/dataset.arff'\n",
    "df = custom_arff_parser(file_path)\n",
    "\n",
    "# Display the DataFrame\n",
    "df.head()"
   ]
  },
  {
   "cell_type": "code",
   "execution_count": 18,
   "id": "7f977f03",
   "metadata": {},
   "outputs": [
    {
     "data": {
      "text/html": [
       "<div>\n",
       "<style scoped>\n",
       "    .dataframe tbody tr th:only-of-type {\n",
       "        vertical-align: middle;\n",
       "    }\n",
       "\n",
       "    .dataframe tbody tr th {\n",
       "        vertical-align: top;\n",
       "    }\n",
       "\n",
       "    .dataframe thead th {\n",
       "        text-align: right;\n",
       "    }\n",
       "</style>\n",
       "<table border=\"1\" class=\"dataframe\">\n",
       "  <thead>\n",
       "    <tr style=\"text-align: right;\">\n",
       "      <th></th>\n",
       "      <th>UDI</th>\n",
       "      <th>Product</th>\n",
       "      <th>Type</th>\n",
       "      <th>Air</th>\n",
       "      <th>Process</th>\n",
       "      <th>Rotational</th>\n",
       "      <th>Torque</th>\n",
       "      <th>Tool</th>\n",
       "      <th>Machine</th>\n",
       "      <th>TWF</th>\n",
       "      <th>HDF</th>\n",
       "      <th>PWF</th>\n",
       "      <th>OSF</th>\n",
       "      <th>RNF</th>\n",
       "    </tr>\n",
       "  </thead>\n",
       "  <tbody>\n",
       "    <tr>\n",
       "      <th>9995</th>\n",
       "      <td>9996</td>\n",
       "      <td>M24855</td>\n",
       "      <td>M</td>\n",
       "      <td>298.8</td>\n",
       "      <td>308.4</td>\n",
       "      <td>1604</td>\n",
       "      <td>29.5</td>\n",
       "      <td>14</td>\n",
       "      <td>0</td>\n",
       "      <td>0</td>\n",
       "      <td>0</td>\n",
       "      <td>0</td>\n",
       "      <td>0</td>\n",
       "      <td>0</td>\n",
       "    </tr>\n",
       "    <tr>\n",
       "      <th>9996</th>\n",
       "      <td>9997</td>\n",
       "      <td>H39410</td>\n",
       "      <td>H</td>\n",
       "      <td>298.9</td>\n",
       "      <td>308.4</td>\n",
       "      <td>1632</td>\n",
       "      <td>31.8</td>\n",
       "      <td>17</td>\n",
       "      <td>0</td>\n",
       "      <td>0</td>\n",
       "      <td>0</td>\n",
       "      <td>0</td>\n",
       "      <td>0</td>\n",
       "      <td>0</td>\n",
       "    </tr>\n",
       "    <tr>\n",
       "      <th>9997</th>\n",
       "      <td>9998</td>\n",
       "      <td>M24857</td>\n",
       "      <td>M</td>\n",
       "      <td>299.0</td>\n",
       "      <td>308.6</td>\n",
       "      <td>1645</td>\n",
       "      <td>33.4</td>\n",
       "      <td>22</td>\n",
       "      <td>0</td>\n",
       "      <td>0</td>\n",
       "      <td>0</td>\n",
       "      <td>0</td>\n",
       "      <td>0</td>\n",
       "      <td>0</td>\n",
       "    </tr>\n",
       "    <tr>\n",
       "      <th>9998</th>\n",
       "      <td>9999</td>\n",
       "      <td>H39412</td>\n",
       "      <td>H</td>\n",
       "      <td>299.0</td>\n",
       "      <td>308.7</td>\n",
       "      <td>1408</td>\n",
       "      <td>48.5</td>\n",
       "      <td>25</td>\n",
       "      <td>0</td>\n",
       "      <td>0</td>\n",
       "      <td>0</td>\n",
       "      <td>0</td>\n",
       "      <td>0</td>\n",
       "      <td>0</td>\n",
       "    </tr>\n",
       "    <tr>\n",
       "      <th>9999</th>\n",
       "      <td>10000</td>\n",
       "      <td>M24859</td>\n",
       "      <td>M</td>\n",
       "      <td>299.0</td>\n",
       "      <td>308.7</td>\n",
       "      <td>1500</td>\n",
       "      <td>40.2</td>\n",
       "      <td>30</td>\n",
       "      <td>0</td>\n",
       "      <td>0</td>\n",
       "      <td>0</td>\n",
       "      <td>0</td>\n",
       "      <td>0</td>\n",
       "      <td>0</td>\n",
       "    </tr>\n",
       "  </tbody>\n",
       "</table>\n",
       "</div>"
      ],
      "text/plain": [
       "        UDI Product Type    Air Process Rotational Torque Tool Machine TWF  \\\n",
       "9995   9996  M24855    M  298.8   308.4       1604   29.5   14       0   0   \n",
       "9996   9997  H39410    H  298.9   308.4       1632   31.8   17       0   0   \n",
       "9997   9998  M24857    M  299.0   308.6       1645   33.4   22       0   0   \n",
       "9998   9999  H39412    H  299.0   308.7       1408   48.5   25       0   0   \n",
       "9999  10000  M24859    M  299.0   308.7       1500   40.2   30       0   0   \n",
       "\n",
       "     HDF PWF OSF RNF  \n",
       "9995   0   0   0   0  \n",
       "9996   0   0   0   0  \n",
       "9997   0   0   0   0  \n",
       "9998   0   0   0   0  \n",
       "9999   0   0   0   0  "
      ]
     },
     "execution_count": 18,
     "metadata": {},
     "output_type": "execute_result"
    }
   ],
   "source": [
    "df.tail()"
   ]
  },
  {
   "cell_type": "code",
   "execution_count": 19,
   "id": "c820c56a",
   "metadata": {},
   "outputs": [
    {
     "name": "stdout",
     "output_type": "stream",
     "text": [
      "10000\n"
     ]
    }
   ],
   "source": [
    "print(df['Product'].nunique())"
   ]
  },
  {
   "cell_type": "code",
   "execution_count": 20,
   "id": "de07589d",
   "metadata": {},
   "outputs": [
    {
     "name": "stdout",
     "output_type": "stream",
     "text": [
      "<class 'pandas.core.frame.DataFrame'>\n",
      "RangeIndex: 10000 entries, 0 to 9999\n",
      "Data columns (total 14 columns):\n",
      " #   Column      Non-Null Count  Dtype \n",
      "---  ------      --------------  ----- \n",
      " 0   UDI         10000 non-null  object\n",
      " 1   Product     10000 non-null  object\n",
      " 2   Type        10000 non-null  object\n",
      " 3   Air         10000 non-null  object\n",
      " 4   Process     10000 non-null  object\n",
      " 5   Rotational  10000 non-null  object\n",
      " 6   Torque      10000 non-null  object\n",
      " 7   Tool        10000 non-null  object\n",
      " 8   Machine     10000 non-null  object\n",
      " 9   TWF         10000 non-null  object\n",
      " 10  HDF         10000 non-null  object\n",
      " 11  PWF         10000 non-null  object\n",
      " 12  OSF         10000 non-null  object\n",
      " 13  RNF         10000 non-null  object\n",
      "dtypes: object(14)\n",
      "memory usage: 1.1+ MB\n"
     ]
    }
   ],
   "source": [
    "df.info()"
   ]
  },
  {
   "cell_type": "code",
   "execution_count": 21,
   "id": "b72420b7",
   "metadata": {},
   "outputs": [],
   "source": [
    "#Convert column to Float. \n",
    "df['Air'] = df['Air'].astype(float)"
   ]
  },
  {
   "cell_type": "code",
   "execution_count": 22,
   "id": "cc9f303a",
   "metadata": {},
   "outputs": [
    {
     "data": {
      "text/plain": [
       "count    10000.000000\n",
       "mean       300.004930\n",
       "std          2.000259\n",
       "min        295.300000\n",
       "25%        298.300000\n",
       "50%        300.100000\n",
       "75%        301.500000\n",
       "max        304.500000\n",
       "Name: Air, dtype: float64"
      ]
     },
     "execution_count": 22,
     "metadata": {},
     "output_type": "execute_result"
    }
   ],
   "source": [
    "df['Air'].describe()"
   ]
  },
  {
   "cell_type": "code",
   "execution_count": 23,
   "id": "ed0a8820",
   "metadata": {},
   "outputs": [
    {
     "data": {
      "text/plain": [
       "count    10000.000000\n",
       "mean       310.005560\n",
       "std          1.483734\n",
       "min        305.700000\n",
       "25%        308.800000\n",
       "50%        310.100000\n",
       "75%        311.100000\n",
       "max        313.800000\n",
       "Name: Process, dtype: float64"
      ]
     },
     "execution_count": 23,
     "metadata": {},
     "output_type": "execute_result"
    }
   ],
   "source": [
    "# Repeat the same for other columns with numerical data\n",
    "df['Process'] = df['Process'].astype(float)\n",
    "df['Process'].describe()"
   ]
  },
  {
   "cell_type": "code",
   "execution_count": 24,
   "id": "cc13e2cc",
   "metadata": {},
   "outputs": [
    {
     "data": {
      "text/plain": [
       "count    10000.000000\n",
       "mean      1538.776100\n",
       "std        179.284096\n",
       "min       1168.000000\n",
       "25%       1423.000000\n",
       "50%       1503.000000\n",
       "75%       1612.000000\n",
       "max       2886.000000\n",
       "Name: Rotational, dtype: float64"
      ]
     },
     "execution_count": 24,
     "metadata": {},
     "output_type": "execute_result"
    }
   ],
   "source": [
    "# Repeat the same for other columns with numerical data\n",
    "df['Rotational'] = df['Rotational'].astype(float)\n",
    "df['Rotational'].describe()"
   ]
  },
  {
   "cell_type": "code",
   "execution_count": 25,
   "id": "0ce7121d",
   "metadata": {},
   "outputs": [
    {
     "data": {
      "text/plain": [
       "count    10000.000000\n",
       "mean        39.986910\n",
       "std          9.968934\n",
       "min          3.800000\n",
       "25%         33.200000\n",
       "50%         40.100000\n",
       "75%         46.800000\n",
       "max         76.600000\n",
       "Name: Torque, dtype: float64"
      ]
     },
     "execution_count": 25,
     "metadata": {},
     "output_type": "execute_result"
    }
   ],
   "source": [
    "# Repeat the same for other columns with numerical data\n",
    "df['Torque'] = df['Torque'].astype(float)\n",
    "df['Torque'].describe()"
   ]
  },
  {
   "cell_type": "code",
   "execution_count": 26,
   "id": "f20c9f88",
   "metadata": {},
   "outputs": [
    {
     "name": "stdout",
     "output_type": "stream",
     "text": [
      "<class 'pandas.core.series.Series'>\n",
      "RangeIndex: 10000 entries, 0 to 9999\n",
      "Series name: Tool\n",
      "Non-Null Count  Dtype  \n",
      "--------------  -----  \n",
      "10000 non-null  float64\n",
      "dtypes: float64(1)\n",
      "memory usage: 78.3 KB\n"
     ]
    }
   ],
   "source": [
    "df['Tool'] = df['Tool'].astype(float)\n",
    "df['Tool'].info()"
   ]
  },
  {
   "cell_type": "code",
   "execution_count": 27,
   "id": "ed94d852",
   "metadata": {},
   "outputs": [
    {
     "name": "stdout",
     "output_type": "stream",
     "text": [
      "<class 'pandas.core.series.Series'>\n",
      "RangeIndex: 10000 entries, 0 to 9999\n",
      "Series name: Air\n",
      "Non-Null Count  Dtype  \n",
      "--------------  -----  \n",
      "10000 non-null  float64\n",
      "dtypes: float64(1)\n",
      "memory usage: 78.3 KB\n",
      "None\n"
     ]
    }
   ],
   "source": [
    " print(df['Air'].info())"
   ]
  },
  {
   "cell_type": "code",
   "execution_count": 28,
   "id": "560f3fe9",
   "metadata": {},
   "outputs": [
    {
     "name": "stdout",
     "output_type": "stream",
     "text": [
      "['0' '1']\n"
     ]
    }
   ],
   "source": [
    "# Check what items are located in \"Machine\"\n",
    "print(df['Machine'].unique())"
   ]
  },
  {
   "cell_type": "code",
   "execution_count": 29,
   "id": "64819e31",
   "metadata": {},
   "outputs": [
    {
     "name": "stdout",
     "output_type": "stream",
     "text": [
      "Machine\n",
      "0    9661\n",
      "1     339\n",
      "Name: count, dtype: int64\n"
     ]
    }
   ],
   "source": [
    "print(df['Machine'].value_counts())"
   ]
  },
  {
   "cell_type": "code",
   "execution_count": 30,
   "id": "b37136aa",
   "metadata": {},
   "outputs": [
    {
     "name": "stdout",
     "output_type": "stream",
     "text": [
      "<class 'pandas.core.series.Series'>\n",
      "RangeIndex: 10000 entries, 0 to 9999\n",
      "Series name: Machine\n",
      "Non-Null Count  Dtype  \n",
      "--------------  -----  \n",
      "10000 non-null  float64\n",
      "dtypes: float64(1)\n",
      "memory usage: 78.3 KB\n"
     ]
    }
   ],
   "source": [
    "# Convert to Float\n",
    "df['Machine'] = df['Machine'].astype(float)\n",
    "df['Machine'].info()"
   ]
  },
  {
   "cell_type": "code",
   "execution_count": 31,
   "id": "1fc39b4d",
   "metadata": {},
   "outputs": [
    {
     "name": "stdout",
     "output_type": "stream",
     "text": [
      "[0. 1.]\n"
     ]
    }
   ],
   "source": [
    "print(df['Machine'].unique())"
   ]
  },
  {
   "cell_type": "code",
   "execution_count": 32,
   "id": "72922f4e",
   "metadata": {},
   "outputs": [
    {
     "name": "stdout",
     "output_type": "stream",
     "text": [
      "Machine\n",
      "0.0    9661\n",
      "1.0     339\n",
      "Name: count, dtype: int64\n"
     ]
    }
   ],
   "source": [
    "print(df['Machine'].value_counts())"
   ]
  },
  {
   "cell_type": "code",
   "execution_count": 33,
   "id": "0699a520",
   "metadata": {},
   "outputs": [
    {
     "name": "stdout",
     "output_type": "stream",
     "text": [
      "['0' '1']\n"
     ]
    }
   ],
   "source": [
    "# Do the same for the rest columns\n",
    "print(df['TWF'].unique())"
   ]
  },
  {
   "cell_type": "code",
   "execution_count": 34,
   "id": "64b1a293",
   "metadata": {},
   "outputs": [
    {
     "name": "stdout",
     "output_type": "stream",
     "text": [
      "TWF\n",
      "0    9954\n",
      "1      46\n",
      "Name: count, dtype: int64\n"
     ]
    }
   ],
   "source": [
    "print(df['TWF'].value_counts())"
   ]
  },
  {
   "cell_type": "code",
   "execution_count": 35,
   "id": "3424b7ff",
   "metadata": {},
   "outputs": [
    {
     "name": "stdout",
     "output_type": "stream",
     "text": [
      "<class 'pandas.core.series.Series'>\n",
      "RangeIndex: 10000 entries, 0 to 9999\n",
      "Series name: TWF\n",
      "Non-Null Count  Dtype  \n",
      "--------------  -----  \n",
      "10000 non-null  float64\n",
      "dtypes: float64(1)\n",
      "memory usage: 78.3 KB\n"
     ]
    }
   ],
   "source": [
    "df['TWF'] = df['TWF'].astype(float)\n",
    "df['TWF'].info()"
   ]
  },
  {
   "cell_type": "code",
   "execution_count": 36,
   "id": "120d8e73",
   "metadata": {},
   "outputs": [
    {
     "name": "stdout",
     "output_type": "stream",
     "text": [
      "['0' '1']\n",
      "HDF\n",
      "0    9885\n",
      "1     115\n",
      "Name: count, dtype: int64\n"
     ]
    }
   ],
   "source": [
    "print(df['HDF'].unique())\n",
    "print(df['HDF'].value_counts())"
   ]
  },
  {
   "cell_type": "code",
   "execution_count": 37,
   "id": "b4c8dbad",
   "metadata": {},
   "outputs": [
    {
     "name": "stdout",
     "output_type": "stream",
     "text": [
      "<class 'pandas.core.series.Series'>\n",
      "RangeIndex: 10000 entries, 0 to 9999\n",
      "Series name: HDF\n",
      "Non-Null Count  Dtype  \n",
      "--------------  -----  \n",
      "10000 non-null  float64\n",
      "dtypes: float64(1)\n",
      "memory usage: 78.3 KB\n"
     ]
    }
   ],
   "source": [
    "df['HDF'] = df['HDF'].astype(float)\n",
    "df['HDF'].info()"
   ]
  },
  {
   "cell_type": "code",
   "execution_count": 38,
   "id": "5033ce8e",
   "metadata": {},
   "outputs": [
    {
     "name": "stdout",
     "output_type": "stream",
     "text": [
      "['0' '1']\n",
      "PWF\n",
      "0    9905\n",
      "1      95\n",
      "Name: count, dtype: int64\n"
     ]
    }
   ],
   "source": [
    "print(df['PWF'].unique())\n",
    "print(df['PWF'].value_counts())"
   ]
  },
  {
   "cell_type": "code",
   "execution_count": 39,
   "id": "24a616a7",
   "metadata": {},
   "outputs": [
    {
     "name": "stdout",
     "output_type": "stream",
     "text": [
      "<class 'pandas.core.series.Series'>\n",
      "RangeIndex: 10000 entries, 0 to 9999\n",
      "Series name: PWF\n",
      "Non-Null Count  Dtype  \n",
      "--------------  -----  \n",
      "10000 non-null  float64\n",
      "dtypes: float64(1)\n",
      "memory usage: 78.3 KB\n"
     ]
    }
   ],
   "source": [
    "df['PWF'] = df['PWF'].astype(float)\n",
    "df['PWF'].info()"
   ]
  },
  {
   "cell_type": "code",
   "execution_count": 40,
   "id": "544065db",
   "metadata": {},
   "outputs": [
    {
     "name": "stdout",
     "output_type": "stream",
     "text": [
      "['0' '1']\n",
      "OSF\n",
      "0    9902\n",
      "1      98\n",
      "Name: count, dtype: int64\n"
     ]
    }
   ],
   "source": [
    "print(df['OSF'].unique())\n",
    "print(df['OSF'].value_counts())"
   ]
  },
  {
   "cell_type": "code",
   "execution_count": 41,
   "id": "44e6a528",
   "metadata": {},
   "outputs": [
    {
     "name": "stdout",
     "output_type": "stream",
     "text": [
      "<class 'pandas.core.series.Series'>\n",
      "RangeIndex: 10000 entries, 0 to 9999\n",
      "Series name: OSF\n",
      "Non-Null Count  Dtype  \n",
      "--------------  -----  \n",
      "10000 non-null  float64\n",
      "dtypes: float64(1)\n",
      "memory usage: 78.3 KB\n"
     ]
    }
   ],
   "source": [
    "df['OSF'] = df['OSF'].astype(float)\n",
    "df['OSF'].info()"
   ]
  },
  {
   "cell_type": "code",
   "execution_count": 42,
   "id": "86ed96ae",
   "metadata": {},
   "outputs": [
    {
     "name": "stdout",
     "output_type": "stream",
     "text": [
      "['0' '1']\n",
      "RNF\n",
      "0    9981\n",
      "1      19\n",
      "Name: count, dtype: int64\n"
     ]
    }
   ],
   "source": [
    "print(df['RNF'].unique())\n",
    "print(df['RNF'].value_counts())"
   ]
  },
  {
   "cell_type": "code",
   "execution_count": 43,
   "id": "268b8e64",
   "metadata": {},
   "outputs": [
    {
     "name": "stdout",
     "output_type": "stream",
     "text": [
      "<class 'pandas.core.series.Series'>\n",
      "RangeIndex: 10000 entries, 0 to 9999\n",
      "Series name: RNF\n",
      "Non-Null Count  Dtype  \n",
      "--------------  -----  \n",
      "10000 non-null  float64\n",
      "dtypes: float64(1)\n",
      "memory usage: 78.3 KB\n"
     ]
    }
   ],
   "source": [
    "df['RNF'] = df['RNF'].astype(float)\n",
    "df['RNF'].info()"
   ]
  },
  {
   "cell_type": "code",
   "execution_count": 44,
   "id": "ea69720e",
   "metadata": {},
   "outputs": [
    {
     "name": "stdout",
     "output_type": "stream",
     "text": [
      "10000\n"
     ]
    }
   ],
   "source": [
    "print(df['UDI'].nunique())"
   ]
  },
  {
   "cell_type": "code",
   "execution_count": 45,
   "id": "a05703ff",
   "metadata": {},
   "outputs": [
    {
     "name": "stdout",
     "output_type": "stream",
     "text": [
      "['1' '2' '3' ... '9998' '9999' '10000']\n",
      "UDI\n",
      "1        1\n",
      "6671     1\n",
      "6664     1\n",
      "6665     1\n",
      "6666     1\n",
      "        ..\n",
      "3334     1\n",
      "3335     1\n",
      "3336     1\n",
      "3337     1\n",
      "10000    1\n",
      "Name: count, Length: 10000, dtype: int64\n"
     ]
    }
   ],
   "source": [
    "print(df['UDI'].unique())\n",
    "print(df['UDI'].value_counts())"
   ]
  },
  {
   "cell_type": "code",
   "execution_count": 46,
   "id": "2f46e46f",
   "metadata": {},
   "outputs": [
    {
     "name": "stdout",
     "output_type": "stream",
     "text": [
      "<class 'pandas.core.series.Series'>\n",
      "RangeIndex: 10000 entries, 0 to 9999\n",
      "Series name: UDI\n",
      "Non-Null Count  Dtype  \n",
      "--------------  -----  \n",
      "10000 non-null  float64\n",
      "dtypes: float64(1)\n",
      "memory usage: 78.3 KB\n"
     ]
    }
   ],
   "source": [
    "df['UDI'] = df['UDI'].astype(float)\n",
    "df['UDI'].info()"
   ]
  },
  {
   "cell_type": "code",
   "execution_count": 47,
   "id": "5aa4c299",
   "metadata": {},
   "outputs": [
    {
     "name": "stdout",
     "output_type": "stream",
     "text": [
      "['M14860' 'L47181' 'L47182' ... 'M24857' 'H39412' 'M24859']\n",
      "Product\n",
      "M14860    1\n",
      "L53850    1\n",
      "L53843    1\n",
      "L53844    1\n",
      "L53845    1\n",
      "         ..\n",
      "M18193    1\n",
      "M18194    1\n",
      "L50515    1\n",
      "L50516    1\n",
      "M24859    1\n",
      "Name: count, Length: 10000, dtype: int64\n"
     ]
    }
   ],
   "source": [
    "print(df['Product'].unique())\n",
    "print(df['Product'].value_counts())"
   ]
  },
  {
   "cell_type": "code",
   "execution_count": 48,
   "id": "10dbcd80",
   "metadata": {},
   "outputs": [
    {
     "data": {
      "image/png": "[encoded data removed]",
      "text/plain": [
       "<Figure size 1200x1000 with 4 Axes>"
      ]
     },
     "metadata": {},
     "output_type": "display_data"
    }
   ],
   "source": [
    "# Plotting distributions for each specified column\n",
    "columns_to_plot = ['Air', 'Process', 'Rotational', 'Torque']\n",
    "\n",
    "# Set up the subplots\n",
    "fig, axes = plt.subplots(nrows=2, ncols=2, figsize=(12, 10))\n",
    "\n",
    "for i, column in enumerate(columns_to_plot):\n",
    "    ax = axes[i // 2, i % 2]\n",
    "    ax.hist(df[column], bins=50, color='blue', alpha=0.7)\n",
    "    ax.set_title(f'Distribution of {column}')\n",
    "    ax.set_xlabel(column)\n",
    "    ax.set_ylabel('Frequency')\n",
    "\n",
    "# Adjust layout\n",
    "plt.tight_layout()\n",
    "\n",
    "# Display the plots\n",
    "plt.show()"
   ]
  },
  {
   "cell_type": "markdown",
   "id": "5a027825",
   "metadata": {},
   "source": [
    "We can see the spike in Rotational distribution at 1500 rpm with a few outliers around 2750 rpm.\n",
    "Average tourque among all pieces of equipment is between 35-45"
   ]
  },
  {
   "cell_type": "code",
   "execution_count": 49,
   "id": "2cf8c79e",
   "metadata": {},
   "outputs": [],
   "source": [
    "# Exclude the 'Product' and 'Type' columns as correlation is possible for numerical data only\n",
    "df_numeric = df.drop(columns=['Product', 'Type'])"
   ]
  },
  {
   "cell_type": "code",
   "execution_count": 50,
   "id": "cb610ed2",
   "metadata": {},
   "outputs": [
    {
     "data": {
      "image/png": "[encoded data removed]",
      "text/plain": [
       "<Figure size 1000x800 with 2 Axes>"
      ]
     },
     "metadata": {},
     "output_type": "display_data"
    }
   ],
   "source": [
    "# Calculate the correlation matrix\n",
    "corr_matrix = df_numeric.corr()\n",
    "\n",
    "# Set up the matplotlib figure\n",
    "plt.figure(figsize=(10, 8))\n",
    "\n",
    "# Draw the heatmap with the mask and correct aspect ratio\n",
    "sns.heatmap(corr_matrix, annot=True, fmt='.2f', cmap='coolwarm', linewidths=0.5)\n",
    "\n",
    "# Title for the heatmap\n",
    "plt.title('Correlation Matrix Heatmap')\n",
    "\n",
    "# Show the plot\n",
    "plt.show()"
   ]
  },
  {
   "cell_type": "markdown",
   "id": "187f0766",
   "metadata": {},
   "source": [
    "We can see strong positive correlation between Process&Air; and strong negative correlation between Rotational&Torque"
   ]
  },
  {
   "cell_type": "code",
   "execution_count": null,
   "id": "e9fc576a",
   "metadata": {},
   "outputs": [],
   "source": []
  },
  {
   "cell_type": "code",
   "execution_count": null,
   "id": "b5a4bc3b",
   "metadata": {},
   "outputs": [],
   "source": []
  }
 ],
 "metadata": {
  "kernelspec": {
   "display_name": "Python 3 (ipykernel)",
   "language": "python",
   "name": "python3"
  },
  "language_info": {
   "codemirror_mode": {
    "name": "ipython",
    "version": 3
   },
   "file_extension": ".py",
   "mimetype": "text/x-python",
   "name": "python",
   "nbconvert_exporter": "python",
   "pygments_lexer": "ipython3",
   "version": "3.11.7"
  }
 },
 "nbformat": 4,
 "nbformat_minor": 5
}
